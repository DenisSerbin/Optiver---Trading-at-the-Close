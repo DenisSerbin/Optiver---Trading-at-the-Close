{
 "cells": [
  {
   "cell_type": "code",
   "execution_count": 1,
   "id": "040ba3a9",
   "metadata": {
    "_cell_guid": "b1076dfc-b9ad-4769-8c92-a6c4dae69d19",
    "_uuid": "8f2839f25d086af736a60e9eeb907d3b93b6e0e5",
    "execution": {
     "iopub.execute_input": "2023-12-17T22:12:32.692951Z",
     "iopub.status.busy": "2023-12-17T22:12:32.692248Z",
     "iopub.status.idle": "2023-12-17T22:12:33.123262Z",
     "shell.execute_reply": "2023-12-17T22:12:33.122267Z"
    },
    "papermill": {
     "duration": 0.441726,
     "end_time": "2023-12-17T22:12:33.126217",
     "exception": false,
     "start_time": "2023-12-17T22:12:32.684491",
     "status": "completed"
    },
    "tags": []
   },
   "outputs": [],
   "source": [
    "import numpy as np\n",
    "import pandas as pd"
   ]
  },
  {
   "cell_type": "code",
   "execution_count": 2,
   "id": "d01959cb",
   "metadata": {
    "execution": {
     "iopub.execute_input": "2023-12-17T22:12:33.139282Z",
     "iopub.status.busy": "2023-12-17T22:12:33.138757Z",
     "iopub.status.idle": "2023-12-17T22:12:33.146437Z",
     "shell.execute_reply": "2023-12-17T22:12:33.145514Z"
    },
    "papermill": {
     "duration": 0.016327,
     "end_time": "2023-12-17T22:12:33.148473",
     "exception": false,
     "start_time": "2023-12-17T22:12:33.132146",
     "status": "completed"
    },
    "tags": []
   },
   "outputs": [],
   "source": [
    "def b_i(row):\n",
    "    if row['imbalance_buy_sell_flag'] == 0:\n",
    "        buy_interest = row['matched_size']\n",
    "    elif row['imbalance_buy_sell_flag'] > 0:\n",
    "        buy_interest = row['matched_size'] + row['imbalance_size']\n",
    "    else:\n",
    "        buy_interest = row['matched_size']\n",
    "    return buy_interest\n",
    "\n",
    "def s_i(row):\n",
    "    if row['imbalance_buy_sell_flag'] == 0:\n",
    "        sell_interest = row['matched_size']\n",
    "    elif row['imbalance_buy_sell_flag'] > 0:\n",
    "        sell_interest = row['matched_size']\n",
    "    else:\n",
    "        sell_interest = row['matched_size'] + row['imbalance_size']\n",
    "    return sell_interest"
   ]
  },
  {
   "cell_type": "code",
   "execution_count": 3,
   "id": "50e6a147",
   "metadata": {
    "execution": {
     "iopub.execute_input": "2023-12-17T22:12:33.161188Z",
     "iopub.status.busy": "2023-12-17T22:12:33.160763Z",
     "iopub.status.idle": "2023-12-17T22:12:33.176617Z",
     "shell.execute_reply": "2023-12-17T22:12:33.175437Z"
    },
    "papermill": {
     "duration": 0.025352,
     "end_time": "2023-12-17T22:12:33.179231",
     "exception": false,
     "start_time": "2023-12-17T22:12:33.153879",
     "status": "completed"
    },
    "tags": []
   },
   "outputs": [],
   "source": [
    "def generate_features(df, train_flag):\n",
    "    \n",
    "    df_out = df.drop(['far_price', 'near_price', 'row_id'], axis = 1)\n",
    "    \n",
    "    df_out['buy_interest'] = df_out.apply(b_i, axis = 1)\n",
    "    df_out['sell_interest'] = df_out.apply(s_i, axis = 1)\n",
    "\n",
    "    features = ['stock_id', 'date_id', 'seconds_in_bucket', 'imbalance_buy_sell_flag', 'imbalance_size', 'matched_size', \n",
    "                'bid_size', 'ask_size', 'reference_price', 'ask_price', 'bid_price', 'wap',\n",
    "                'imb_s1', 'imb_s2', 'imb_s3', 'buy_interest', 'sell_interest'\n",
    "               ]\n",
    "    \n",
    "    df_out['imb_s1'] = df_out.eval('(ask_size - bid_size)/(ask_size + bid_size)')\n",
    "    df_out['imb_s2'] = df_out.eval('(imbalance_size - matched_size)/(matched_size + imbalance_size)')\n",
    "    df_out['imb_s3'] = np.log(df_out.ask_size) - np.log(df_out.bid_size)\n",
    "    \n",
    "    prices = ['reference_price', 'ask_price', 'bid_price', 'wap']\n",
    "    \n",
    "    for i, a in enumerate(prices):\n",
    "        for j, b in enumerate(prices):\n",
    "            if i > j:\n",
    "                df_out[f'{a}_{b}_imb'] = df_out.eval(f'({a} - {b})/({a} + {b})')\n",
    "                features.append(f'{a}_{b}_imb')    \n",
    "                    \n",
    "    for i, a in enumerate(prices):\n",
    "        for j, b in enumerate(prices):\n",
    "            for k, c in enumerate(prices):\n",
    "                if i > j and j > k:\n",
    "                    max_ = df_out[[a,b,c]].max(axis = 1)\n",
    "                    min_ = df_out[[a,b,c]].min(axis = 1)\n",
    "                    mid_ = df_out[[a,b,c]].sum(axis = 1) - min_ - max_\n",
    "\n",
    "                    df_out[f'{a}_{b}_{c}_imb2'] = (max_ - mid_)/(mid_ - min_)\n",
    "                    features.append(f'{a}_{b}_{c}_imb2')\n",
    "    \n",
    "    if train_flag:\n",
    "        df_out = df_out.dropna()\n",
    "        df_out.replace([np.inf, -np.inf], 0, inplace = True)\n",
    "    else:\n",
    "        df_out.fillna(0, inplace = True)\n",
    "        df_out.replace([np.inf, -np.inf], 0, inplace = True)\n",
    "        \n",
    "    if train_flag:\n",
    "        return df_out[features], df_out['target']\n",
    "    else:\n",
    "        return df_out[features], None"
   ]
  },
  {
   "cell_type": "code",
   "execution_count": 4,
   "id": "36d98f79",
   "metadata": {
    "execution": {
     "iopub.execute_input": "2023-12-17T22:12:33.192177Z",
     "iopub.status.busy": "2023-12-17T22:12:33.191777Z",
     "iopub.status.idle": "2023-12-17T22:17:14.807068Z",
     "shell.execute_reply": "2023-12-17T22:17:14.806147Z"
    },
    "papermill": {
     "duration": 281.624621,
     "end_time": "2023-12-17T22:17:14.809318",
     "exception": false,
     "start_time": "2023-12-17T22:12:33.184697",
     "status": "completed"
    },
    "tags": []
   },
   "outputs": [
    {
     "name": "stderr",
     "output_type": "stream",
     "text": [
      "/opt/conda/lib/python3.10/site-packages/pandas/core/arraylike.py:396: RuntimeWarning: divide by zero encountered in log\n",
      "  result = getattr(ufunc, method)(*inputs, **kwargs)\n",
      "/tmp/ipykernel_19/3052505903.py:38: SettingWithCopyWarning: \n",
      "A value is trying to be set on a copy of a slice from a DataFrame\n",
      "\n",
      "See the caveats in the documentation: https://pandas.pydata.org/pandas-docs/stable/user_guide/indexing.html#returning-a-view-versus-a-copy\n",
      "  df_out.replace([np.inf, -np.inf], 0, inplace = True)\n"
     ]
    },
    {
     "name": "stdout",
     "output_type": "stream",
     "text": [
      "CPU times: user 4min 31s, sys: 6.65 s, total: 4min 37s\n",
      "Wall time: 4min 41s\n"
     ]
    }
   ],
   "source": [
    "%%time\n",
    "\n",
    "train_df = pd.read_csv('/kaggle/input/optiver-trading-at-the-close/train.csv')\n",
    "X, y = generate_features(train_df, True)"
   ]
  },
  {
   "cell_type": "code",
   "execution_count": 5,
   "id": "4fde8363",
   "metadata": {
    "execution": {
     "iopub.execute_input": "2023-12-17T22:17:14.823140Z",
     "iopub.status.busy": "2023-12-17T22:17:14.822231Z",
     "iopub.status.idle": "2023-12-17T22:17:17.752471Z",
     "shell.execute_reply": "2023-12-17T22:17:17.751354Z"
    },
    "papermill": {
     "duration": 2.940325,
     "end_time": "2023-12-17T22:17:17.755300",
     "exception": false,
     "start_time": "2023-12-17T22:17:14.814975",
     "status": "completed"
    },
    "tags": []
   },
   "outputs": [],
   "source": [
    "import xgboost as xgb\n",
    "import optuna\n",
    "from sklearn.model_selection import train_test_split\n",
    "from sklearn.metrics import mean_absolute_error\n",
    "\n",
    "xgb.set_config(verbosity = 0)"
   ]
  },
  {
   "cell_type": "code",
   "execution_count": 6,
   "id": "f90dbe1e",
   "metadata": {
    "execution": {
     "iopub.execute_input": "2023-12-17T22:17:17.768741Z",
     "iopub.status.busy": "2023-12-17T22:17:17.768332Z",
     "iopub.status.idle": "2023-12-17T22:17:17.774518Z",
     "shell.execute_reply": "2023-12-17T22:17:17.773364Z"
    },
    "papermill": {
     "duration": 0.015498,
     "end_time": "2023-12-17T22:17:17.776735",
     "exception": false,
     "start_time": "2023-12-17T22:17:17.761237",
     "status": "completed"
    },
    "tags": []
   },
   "outputs": [],
   "source": [
    "best_params = {'n_estimators': 4267, \n",
    "               'learning_rate': 0.16987645395358383, \n",
    "               'max_depth': 30, \n",
    "               'min_child_weight': 165, \n",
    "               'gamma': 0.0008669890550996714, \n",
    "               'alpha': 1.3874741641288368, \n",
    "               'lambda': 0.06464543052706935, \n",
    "               'colsample_bytree': 0.781499920579469, \n",
    "               'subsample': 0.7322463216704231\n",
    "              }"
   ]
  },
  {
   "cell_type": "code",
   "execution_count": 7,
   "id": "a2736c41",
   "metadata": {
    "execution": {
     "iopub.execute_input": "2023-12-17T22:17:17.790806Z",
     "iopub.status.busy": "2023-12-17T22:17:17.789608Z",
     "iopub.status.idle": "2023-12-17T22:17:48.600963Z",
     "shell.execute_reply": "2023-12-17T22:17:48.600089Z"
    },
    "papermill": {
     "duration": 30.826665,
     "end_time": "2023-12-17T22:17:48.609148",
     "exception": false,
     "start_time": "2023-12-17T22:17:17.782483",
     "status": "completed"
    },
    "tags": []
   },
   "outputs": [
    {
     "name": "stdout",
     "output_type": "stream",
     "text": [
      "Mean Absolute Error: 6.264716025562697\n"
     ]
    }
   ],
   "source": [
    "X_train, X_val, y_train, y_val = train_test_split(X, y, test_size = 0.4, random_state = 1977)\n",
    "dtrain = xgb.DMatrix(data = X_train, label = y_train)\n",
    "dval = xgb.DMatrix(data = X_val, label = y_val)\n",
    "\n",
    "regressor = xgb.train(best_params, dtrain)\n",
    "y_pred = regressor.predict(dval)\n",
    "mae = mean_absolute_error(y_val, y_pred)\n",
    "\n",
    "print(\"Mean Absolute Error: {}\".format(mae))"
   ]
  },
  {
   "cell_type": "code",
   "execution_count": 8,
   "id": "39afb6fa",
   "metadata": {
    "execution": {
     "iopub.execute_input": "2023-12-17T22:17:48.622978Z",
     "iopub.status.busy": "2023-12-17T22:17:48.621997Z",
     "iopub.status.idle": "2023-12-17T22:17:48.796673Z",
     "shell.execute_reply": "2023-12-17T22:17:48.795485Z"
    },
    "papermill": {
     "duration": 0.184503,
     "end_time": "2023-12-17T22:17:48.799363",
     "exception": false,
     "start_time": "2023-12-17T22:17:48.614860",
     "status": "completed"
    },
    "tags": []
   },
   "outputs": [],
   "source": [
    "### Test dataset:\n",
    "test_df = pd.read_csv(\"/kaggle/input/optiver-trading-at-the-close/example_test_files/test.csv\")\n",
    "test_targets = pd.read_csv(\"/kaggle/input/optiver-trading-at-the-close/example_test_files/revealed_targets.csv\")"
   ]
  },
  {
   "cell_type": "code",
   "execution_count": 9,
   "id": "4c12ed71",
   "metadata": {
    "execution": {
     "iopub.execute_input": "2023-12-17T22:17:48.813061Z",
     "iopub.status.busy": "2023-12-17T22:17:48.812656Z",
     "iopub.status.idle": "2023-12-17T22:17:48.857543Z",
     "shell.execute_reply": "2023-12-17T22:17:48.856192Z"
    },
    "papermill": {
     "duration": 0.0547,
     "end_time": "2023-12-17T22:17:48.860273",
     "exception": false,
     "start_time": "2023-12-17T22:17:48.805573",
     "status": "completed"
    },
    "tags": []
   },
   "outputs": [],
   "source": [
    "df = pd.merge(test_df, test_targets[['date_id', 'seconds_in_bucket', 'stock_id', 'revealed_target']], how = 'outer', on = ['date_id', 'seconds_in_bucket', 'stock_id'])\n",
    "df.rename(index = str, columns = {'revealed_target': 'target'}, inplace = True)"
   ]
  },
  {
   "cell_type": "code",
   "execution_count": 10,
   "id": "cde278b5",
   "metadata": {
    "execution": {
     "iopub.execute_input": "2023-12-17T22:17:48.873985Z",
     "iopub.status.busy": "2023-12-17T22:17:48.873470Z",
     "iopub.status.idle": "2023-12-17T22:17:50.668410Z",
     "shell.execute_reply": "2023-12-17T22:17:50.667252Z"
    },
    "papermill": {
     "duration": 1.804688,
     "end_time": "2023-12-17T22:17:50.670936",
     "exception": false,
     "start_time": "2023-12-17T22:17:48.866248",
     "status": "completed"
    },
    "tags": []
   },
   "outputs": [
    {
     "name": "stderr",
     "output_type": "stream",
     "text": [
      "/tmp/ipykernel_19/3052505903.py:38: SettingWithCopyWarning: \n",
      "A value is trying to be set on a copy of a slice from a DataFrame\n",
      "\n",
      "See the caveats in the documentation: https://pandas.pydata.org/pandas-docs/stable/user_guide/indexing.html#returning-a-view-versus-a-copy\n",
      "  df_out.replace([np.inf, -np.inf], 0, inplace = True)\n"
     ]
    }
   ],
   "source": [
    "X_test, y_test = generate_features(df, True)"
   ]
  },
  {
   "cell_type": "code",
   "execution_count": 11,
   "id": "f5eb55aa",
   "metadata": {
    "execution": {
     "iopub.execute_input": "2023-12-17T22:17:50.684440Z",
     "iopub.status.busy": "2023-12-17T22:17:50.684059Z",
     "iopub.status.idle": "2023-12-17T22:17:50.749842Z",
     "shell.execute_reply": "2023-12-17T22:17:50.748914Z"
    },
    "papermill": {
     "duration": 0.075603,
     "end_time": "2023-12-17T22:17:50.752492",
     "exception": false,
     "start_time": "2023-12-17T22:17:50.676889",
     "status": "completed"
    },
    "tags": []
   },
   "outputs": [
    {
     "name": "stdout",
     "output_type": "stream",
     "text": [
      "Mean Absolute Error: 5.492949694380493\n"
     ]
    }
   ],
   "source": [
    "dtest = xgb.DMatrix(data = X_test, label = y_test)\n",
    "\n",
    "y_pred = regressor.predict(dtest)\n",
    "mae_test = mean_absolute_error(y_test, y_pred)\n",
    "\n",
    "print(\"Mean Absolute Error: {}\".format(mae_test))"
   ]
  },
  {
   "cell_type": "code",
   "execution_count": 12,
   "id": "b15654e3",
   "metadata": {
    "execution": {
     "iopub.execute_input": "2023-12-17T22:17:50.766940Z",
     "iopub.status.busy": "2023-12-17T22:17:50.766053Z",
     "iopub.status.idle": "2023-12-17T22:17:50.786625Z",
     "shell.execute_reply": "2023-12-17T22:17:50.785775Z"
    },
    "papermill": {
     "duration": 0.030144,
     "end_time": "2023-12-17T22:17:50.788984",
     "exception": false,
     "start_time": "2023-12-17T22:17:50.758840",
     "status": "completed"
    },
    "tags": []
   },
   "outputs": [],
   "source": [
    "import optiver2023\n",
    "env = optiver2023.make_env()\n",
    "iter_test = env.iter_test()"
   ]
  },
  {
   "cell_type": "code",
   "execution_count": 13,
   "id": "3f97d605",
   "metadata": {
    "execution": {
     "iopub.execute_input": "2023-12-17T22:17:50.803205Z",
     "iopub.status.busy": "2023-12-17T22:17:50.802614Z",
     "iopub.status.idle": "2023-12-17T22:18:03.058866Z",
     "shell.execute_reply": "2023-12-17T22:18:03.057627Z"
    },
    "papermill": {
     "duration": 12.266516,
     "end_time": "2023-12-17T22:18:03.061791",
     "exception": false,
     "start_time": "2023-12-17T22:17:50.795275",
     "status": "completed"
    },
    "tags": []
   },
   "outputs": [
    {
     "name": "stdout",
     "output_type": "stream",
     "text": [
      "This version of the API is not optimized and should not be used to estimate the runtime of your code on the hidden test set.\n"
     ]
    }
   ],
   "source": [
    "counter = 0\n",
    "for (test, revealed_targets, sample_prediction) in iter_test:\n",
    "    X_test, _ = generate_features(test, False)\n",
    "    dtest = xgb.DMatrix(data = X_test)\n",
    "    pred = regressor.predict(dtest)\n",
    "    sample_prediction['target'] = pred\n",
    "    env.predict(sample_prediction)\n",
    "    counter += 1"
   ]
  },
  {
   "cell_type": "code",
   "execution_count": null,
   "id": "71755885",
   "metadata": {
    "papermill": {
     "duration": 0.005856,
     "end_time": "2023-12-17T22:18:03.073833",
     "exception": false,
     "start_time": "2023-12-17T22:18:03.067977",
     "status": "completed"
    },
    "tags": []
   },
   "outputs": [],
   "source": []
  }
 ],
 "metadata": {
  "kaggle": {
   "accelerator": "none",
   "dataSources": [
    {
     "databundleVersionId": 7056235,
     "sourceId": 57891,
     "sourceType": "competition"
    }
   ],
   "dockerImageVersionId": 30626,
   "isGpuEnabled": false,
   "isInternetEnabled": false,
   "language": "python",
   "sourceType": "notebook"
  },
  "kernelspec": {
   "display_name": "Python 3",
   "language": "python",
   "name": "python3"
  },
  "language_info": {
   "codemirror_mode": {
    "name": "ipython",
    "version": 3
   },
   "file_extension": ".py",
   "mimetype": "text/x-python",
   "name": "python",
   "nbconvert_exporter": "python",
   "pygments_lexer": "ipython3",
   "version": "3.10.12"
  },
  "papermill": {
   "default_parameters": {},
   "duration": 335.14111,
   "end_time": "2023-12-17T22:18:04.304230",
   "environment_variables": {},
   "exception": null,
   "input_path": "__notebook__.ipynb",
   "output_path": "__notebook__.ipynb",
   "parameters": {},
   "start_time": "2023-12-17T22:12:29.163120",
   "version": "2.4.0"
  }
 },
 "nbformat": 4,
 "nbformat_minor": 5
}
